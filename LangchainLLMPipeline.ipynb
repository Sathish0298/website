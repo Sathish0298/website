{
 "cells": [
  {
   "cell_type": "code",
   "execution_count": 8,
   "metadata": {},
   "outputs": [
    {
     "data": {
      "text/plain": [
       "True"
      ]
     },
     "execution_count": 8,
     "metadata": {},
     "output_type": "execute_result"
    }
   ],
   "source": [
    "from dotenv import load_dotenv\n",
    "\n",
    "load_dotenv()\n"
   ]
  },
  {
   "cell_type": "code",
   "execution_count": 49,
   "metadata": {},
   "outputs": [],
   "source": [
    "import pandas as pd\n",
    "from langchain_openai import ChatOpenAI\n",
    "from langchain_openai import ChatOpenAI\n"
   ]
  },
  {
   "cell_type": "code",
   "execution_count": 12,
   "metadata": {},
   "outputs": [],
   "source": [
    "from langchain_community.document_loaders import TextLoader\n",
    "\n",
    "loader = TextLoader(\"unique_negative_keywords.txt\")\n",
    "document = loader.load()\n"
   ]
  },
  {
   "cell_type": "code",
   "execution_count": 45,
   "metadata": {},
   "outputs": [],
   "source": [
    "template_string = \"\"\" You are an AI language model trained to analyze unique key phrases or words from the negative reviews of a product and generate snew product design for product improvements. \\\n",
    "The unique key phrases or words from the negative reviews of a product are: {document} \\\n",
    "\n",
    "Based on the following Unique key phrases or words from the negative reviews, suggest top new product design improvements:\n",
    "Make sure the improvements are generic and more specific to a particular issue or key phrase.\n",
    "Don't suggest similar improvements more than once.\n",
    "Each Improvements suggested should have following subdivisions:\n",
    "Improvement\n",
    "corresponing key phrase or word\n",
    "Impact\n",
    "Steps to Implement\n",
    "(steps to implement should be in bullet points)\n",
    "Format each Improvements suggested as JSON with the following keys:\n",
    "Improvement\n",
    "corresponing key phrase or word\n",
    "Impact\n",
    "Steps to Implement\n",
    "\"\"\"\n",
    "\n",
    "from langchain.prompts import ChatPromptTemplate\n",
    "\n",
    "prompt_template = ChatPromptTemplate.from_template(template_string)\n"
   ]
  },
  {
   "cell_type": "code",
   "execution_count": 48,
   "metadata": {},
   "outputs": [
    {
     "name": "stderr",
     "output_type": "stream",
     "text": [
      "Processing blocks: 100%|██████████| 1/1 [00:06<00:00,  6.21s/block]"
     ]
    },
    {
     "name": "stdout",
     "output_type": "stream",
     "text": [
      "{\n",
      "  \"Improvement\": \"Improved accuracy in measurement readings\",\n",
      "  \"corresponding key phrase or word\": \"inaccurate\",\n",
      "  \"Impact\": \"Customers will have more trust in the product's measurements, leading to higher satisfaction.\",\n",
      "  \"Steps to Implement\": [\n",
      "    \"Implement a calibration process for the measurement sensors\",\n",
      "    \"Conduct regular quality checks on the measurement readings\",\n",
      "    \"Provide clear instructions on how to use the product for accurate measurements\"\n",
      "  ]\n",
      "}\n",
      "\n",
      "{\n",
      "  \"Improvement\": \"Adjustable arm-cuff sizes for better fit\",\n",
      "  \"corresponding key phrase or word\": \"arm-cuff restricts limited/specific arm-cuff more unable arm-cuff (bigger size) inaccurate\",\n",
      "  \"Impact\": \"Customers with different arm sizes will be able to use the product comfortably.\",\n",
      "  \"Steps to Implement\": [\n",
      "    \"Design arm-cuffs with adjustable straps or sizes\",\n",
      "    \"Offer multiple sizes of arm-cuffs for customers to choose from\",\n",
      "    \"Ensure that the arm-cuffs are easily adjustable for a snug fit\"\n",
      "  ]\n",
      "}\n",
      "\n",
      "{\n",
      "  \"Improvement\": \"Improved customer support for issue resolution\",\n",
      "  \"corresponding key phrase or word\": \"waiting hour resolved issue\",\n",
      "  \"Impact\": \"Customers will feel supported and valued when facing product issues.\",\n",
      "  \"Steps to Implement\": [\n",
      "    \"Increase customer support team availability\",\n",
      "    \"Provide clear communication channels for issue resolution\",\n",
      "    \"Train customer support staff to efficiently resolve product issues\"\n",
      "  ]\n",
      "}\n"
     ]
    },
    {
     "name": "stderr",
     "output_type": "stream",
     "text": [
      "\n"
     ]
    }
   ],
   "source": [
    "def generate_improvement_suggestions(texts):\n",
    "\n",
    "    suggestions = []\n",
    "\n",
    "    for block in tqdm(texts, desc=\"Processing blocks\", unit=\"block\"):\n",
    "        messages = prompt_template.format(document=block)\n",
    "\n",
    "        chat = ChatOpenAI(\n",
    "            model=\"gpt-4-turbo\",\n",
    "            max_tokens=3000,\n",
    "            n=1,\n",
    "            temperature=0.7,\n",
    "        )\n",
    "\n",
    "        completion = chat.invoke(messages)\n",
    "\n",
    "        suggestion = completion.content\n",
    "        suggestions.append(suggestion)\n",
    "\n",
    "    combined_suggestions = \"\\n\\n\".join(suggestions)\n",
    "    return combined_suggestions\n",
    "\n",
    "\n",
    "improvement_suggestions = generate_improvement_suggestions(document)\n",
    "\n",
    "print(improvement_suggestions)\n"
   ]
  },
  {
   "cell_type": "code",
   "execution_count": 54,
   "metadata": {},
   "outputs": [],
   "source": [
    "from langchain_community.tools import DuckDuckGoSearchResults\n",
    "\n",
    "\n",
    "search = DuckDuckGoSearchResults()\n"
   ]
  },
  {
   "cell_type": "code",
   "execution_count": 55,
   "metadata": {},
   "outputs": [
    {
     "data": {
      "text/plain": [
       "\"[snippet: Larger sizes needed mean bigger errors. The authors found that use of a regular BP cuff resulted in a 3.6 mm Hg lower systolic BP reading among individuals who needed a small cuff. It also resulted in a 4.8 mm Hg and a 19.5 mm Hg higher systolic BP among those who needed a large or an extra-large cuff, respectively., title: For accurate BP measurement, one cuff size does not fit all, link: https://www.ama-assn.org/delivering-care/hypertension/accurate-bp-measurement-one-cuff-size-does-not-fit-all], [snippet: Often in a busy clinical practice or in environments where there are limited resources, a regular-sized BP cuff may be used for all patients. 5 However, in a trial of 165 middle-aged adults, systolic blood pressure (SBP) measured using a regular-sized cuff in place of a small cuff resulted in a 3.8 mm Hg lower SBP reading, whereas use of a ..., title: Why Is Cuff Size So Important and Other Factors That Affect Accurate ..., link: https://www.acc.org/latest-in-cardiology/articles/2023/06/05/19/18/why-is-cuff-size-so-important-and-other-factors-that-affect-accurate-bp-measurement], [snippet: With an arm cuff size based on the original SB15®, the SBA5 weighs only 9 ounces, and ships with an adjustable nylon strap for a custom fit. Learn more about the SBA5 brace or find yours online . For further information, follow @SB Tactical on Facebook and Instagram., title: SB Tactical's New SBA5 Adjustable Pistol Stabilizing Brace, link: https://soldiersystems.net/2024/03/15/sb-tactical-new-sba5-pistol-stabilizing-brace/], [snippet: Designed for all platforms capable of accepting a mil-spec carbine receiver extension, the SBA5 is 5-position adjustable and greatly enhances the usability of the host firearm by adding an additional point of contact. Featuring an integral, ambidextrous QD sling socket, the SBA5 is available in both black and FDE. With an arm cuff size based on ..., title: Sb Tactical Introduces the Sba5 Adjustable Pistol Stabilzing Brace, link: https://attackcopter.com/2024/03/14/sb-tactical-introduces-the-sba5-adjustable-pistol-stabilzing-brace/]\""
      ]
     },
     "execution_count": 55,
     "metadata": {},
     "output_type": "execute_result"
    },
    {
     "name": "stderr",
     "output_type": "stream",
     "text": [
      "c:\\Users\\smath\\Downloads\\Sentiment-Analysis-main\\llm2-env\\Lib\\site-packages\\curl_cffi\\aio.py:204: UserWarning: Curlm alread closed! quitting from process_data\n",
      "  warnings.warn(\"Curlm alread closed! quitting from process_data\")\n"
     ]
    }
   ],
   "source": [
    "search.run(\"Adjustable arm-cuff sizes for better fit\")\n"
   ]
  }
 ],
 "metadata": {
  "kernelspec": {
   "display_name": "llm-env",
   "language": "python",
   "name": "python3"
  },
  "language_info": {
   "codemirror_mode": {
    "name": "ipython",
    "version": 3
   },
   "file_extension": ".py",
   "mimetype": "text/x-python",
   "name": "python",
   "nbconvert_exporter": "python",
   "pygments_lexer": "ipython3",
   "version": "3.12.1"
  }
 },
 "nbformat": 4,
 "nbformat_minor": 2
}
